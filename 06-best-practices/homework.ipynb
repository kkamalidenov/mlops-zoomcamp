{
 "cells": [
  {
   "cell_type": "markdown",
   "id": "7bd1eb8a-7d2e-453d-8710-f10728cd04c7",
   "metadata": {},
   "source": [
    "### Q1. Refactoring"
   ]
  },
  {
   "cell_type": "code",
   "execution_count": 17,
   "id": "687d2fa7-dd28-41e2-aaeb-9d12c3b4610f",
   "metadata": {},
   "outputs": [
    {
     "name": "stdout",
     "output_type": "stream",
     "text": [
      "/opt/homebrew/lib/python3.12/site-packages/sklearn/base.py:376: InconsistentVersionWarning: Trying to unpickle estimator DictVectorizer from version 1.5.0 when using version 1.5.2. This might lead to breaking code or invalid results. Use at your own risk. For more info please refer to:\n",
      "https://scikit-learn.org/stable/model_persistence.html#security-maintainability-limitations\n",
      "  warnings.warn(\n",
      "/opt/homebrew/lib/python3.12/site-packages/sklearn/base.py:376: InconsistentVersionWarning: Trying to unpickle estimator LinearRegression from version 1.5.0 when using version 1.5.2. This might lead to breaking code or invalid results. Use at your own risk. For more info please refer to:\n",
      "https://scikit-learn.org/stable/model_persistence.html#security-maintainability-limitations\n",
      "  warnings.warn(\n",
      "Predicted mean duration: 14.203865642696083\n"
     ]
    }
   ],
   "source": [
    "!python3 batch.py 2023 03"
   ]
  },
  {
   "cell_type": "markdown",
   "id": "e0ac2df1-6c9f-4b11-a475-2b80bfd189c2",
   "metadata": {},
   "source": [
    "### Q2. Installing pytest"
   ]
  },
  {
   "cell_type": "code",
   "execution_count": 6,
   "id": "5c335cb2-c200-4846-997d-d1bbfa516a15",
   "metadata": {},
   "outputs": [
    {
     "name": "stdout",
     "output_type": "stream",
     "text": [
      "\u001b[1mCreating a virtualenv for this project\u001b[0m\n",
      "Pipfile: \u001b[1;33m/Users/kuanysh/Downloads/mlops/mlops-zoomcamp/06-best-practices/\u001b[0m\u001b[1;33mPipfile\u001b[0m\n",
      "\u001b[1mUsing\u001b[0m \u001b[1;33m/opt/homebrew/bin/\u001b[0m\u001b[1;33mpython3\u001b[0m\u001b[32m3.12.7\u001b[0m\u001b[32m \u001b[0m\u001b[1;32mto create virtualenv\u001b[0m\u001b[1;32m...\u001b[0m\n",
      "\u001b[2K\u001b[32m⠹\u001b[0m Creating virtual environment...\u001b[36mcreated virtual environment CPython3.\u001b[0m\u001b[1;36m12.7\u001b[0m\u001b[36m.final.\u001b[0m\u001b[1;36m0\u001b[0m\u001b[36m-\u001b[0m\u001b[1;36m64\u001b[0m\u001b[36m in 191ms\u001b[0m\n",
      "\u001b[36m  creator \u001b[0m\n",
      "\u001b[1;36mCPython3macOsBrew\u001b[0m\u001b[1;36m(\u001b[0m\u001b[36mdest\u001b[0m\u001b[36m=\u001b[0m\u001b[36m/Users/kuanysh/.local/share/virtualenvs/\u001b[0m\u001b[36m06-best-practices\u001b[0m\n",
      "\u001b[36m-sBV8QPxH\u001b[0m\u001b[36m, \u001b[0m\u001b[36mclear\u001b[0m\u001b[36m=\u001b[0m\u001b[3;36mFalse\u001b[0m\u001b[36m, \u001b[0m\u001b[36mno_vcs_ignore\u001b[0m\u001b[36m=\u001b[0m\u001b[3;36mFalse\u001b[0m\u001b[36m, \u001b[0m\u001b[36mglobal\u001b[0m\u001b[36m=\u001b[0m\u001b[3;36mFalse\u001b[0m\u001b[1;36m)\u001b[0m\n",
      "\u001b[36m  seeder \u001b[0m\u001b[1;36mFromAppData\u001b[0m\u001b[1;36m(\u001b[0m\u001b[36mdownload\u001b[0m\u001b[36m=\u001b[0m\u001b[3;36mFalse\u001b[0m\u001b[36m, \u001b[0m\u001b[36mpip\u001b[0m\u001b[36m=\u001b[0m\u001b[36mbundle\u001b[0m\u001b[36m, \u001b[0m\u001b[36mvia\u001b[0m\u001b[36m=\u001b[0m\u001b[36mcopy\u001b[0m\u001b[36m, \u001b[0m\n",
      "\u001b[36mapp_data_dir\u001b[0m\u001b[36m=\u001b[0m\u001b[36m/Users/kuanysh/Library/\u001b[0m\u001b[36mApplication\u001b[0m\u001b[36m Support/virtualenv\u001b[0m\u001b[1;36m)\u001b[0m\n",
      "\u001b[36m    added seed packages: \u001b[0m\u001b[36mpip\u001b[0m\u001b[36m==\u001b[0m\u001b[1;36m24.3\u001b[0m\u001b[36m.\u001b[0m\u001b[1;36m1\u001b[0m\n",
      "\u001b[36m  activators \u001b[0m\n",
      "\u001b[36mBashActivator,CShellActivator,FishActivator,NushellActivator,PowerShellActivator\u001b[0m\n",
      "\u001b[36m,PythonActivator\u001b[0m\n",
      "\n",
      "✔ Successfully created virtual environment!\n",
      "\u001b[2K\u001b[32m⠹\u001b[0m Creating virtual environment...\n",
      "\u001b[1A\u001b[2K\u001b[32mVirtualenv location: \u001b[0m\u001b[32m/Users/kuanysh/.local/share/virtualenvs/\u001b[0m\u001b[32m06-best-practices-sBV8QPxH\u001b[0m\n",
      "\u001b[1mPipfile.lock not found, creating\u001b[0m\u001b[1;33m...\u001b[0m\n",
      "Locking\u001b[0m \u001b[33m[packages]\u001b[0m dependencies...\u001b[0m\n",
      "\u001b[?25lBuilding requirements...\n",
      "\u001b[2KResolving dependencies....\n",
      "\u001b[2K✔ Success! Locking packages...\n",
      "\u001b[2K\u001b[32m⠙\u001b[0m Locking packages...\n",
      "\u001b[1A\u001b[2KLocking\u001b[0m \u001b[33m[dev-packages]\u001b[0m dependencies...\u001b[0m\n",
      "\u001b[1mUpdated Pipfile.lock (ed95718ac2d11b5503c3d8a10c0b5992c8f2691a2eaef8bdfcc4bc0b3b5d1c7c)!\u001b[0m\n",
      "To activate this project's virtualenv, run \u001b[33mpipenv shell\u001b[0m.\n",
      "Alternatively, run a command inside the virtualenv with \u001b[33mpipenv run\u001b[0m.\n",
      "\u001b[1;32mInstalling pytest...\u001b[0m\n",
      "✔ Installation Succeeded\n",
      "To activate this project's virtualenv, run \u001b[33mpipenv shell\u001b[0m.\n",
      "Alternatively, run a command inside the virtualenv with \u001b[33mpipenv run\u001b[0m.\n",
      "\u001b[1mInstalling dependencies from Pipfile.lock \u001b[0m\u001b[1m(5d1c7c)...\u001b[0m\n",
      "\u001b[32mAll dependencies are now up-to-date!\u001b[0m\n",
      "\u001b[1;32mUpgrading\u001b[0m pytest in  dependencies.\n",
      "\u001b[?25lBuilding requirements...\n",
      "\u001b[2KResolving dependencies...es...\n",
      "\u001b[2K✔ Success! Locking dev-packages...\n",
      "\u001b[2K\u001b[32m⠴\u001b[0m Locking dev-packages...\n",
      "\u001b[1A\u001b[2K\u001b[?25lBuilding requirements...\n",
      "\u001b[2KResolving dependencies...es...\n",
      "\u001b[2K✔ Success! Locking dev-packages...\n",
      "\u001b[2K\u001b[32m⠼\u001b[0m Locking dev-packages...\n",
      "\u001b[1A\u001b[2KTo activate this project's virtualenv, run \u001b[33mpipenv shell\u001b[0m.\n",
      "Alternatively, run a command inside the virtualenv with \u001b[33mpipenv run\u001b[0m.\n",
      "\u001b[1mInstalling dependencies from Pipfile.lock \u001b[0m\u001b[1m(6ccfdf)...\u001b[0m\n",
      "\u001b[32mAll dependencies are now up-to-date!\u001b[0m\n",
      "\u001b[1mInstalling dependencies from Pipfile.lock \u001b[0m\u001b[1;39m(6ccfdf)...\u001b[0m\n",
      "\u001b[1mInstalling dependencies from Pipfile.lock \u001b[0m\u001b[1m(6ccfdf)...\u001b[0m\n"
     ]
    }
   ],
   "source": [
    "!pipenv install --dev pytest"
   ]
  },
  {
   "cell_type": "code",
   "execution_count": 7,
   "id": "01db79dc-ec59-4f24-9efd-18b16f8a7570",
   "metadata": {},
   "outputs": [],
   "source": [
    "!mkdir tests"
   ]
  },
  {
   "cell_type": "code",
   "execution_count": 8,
   "id": "9dbd420e-dfcf-4fa8-9802-6d888d106f00",
   "metadata": {},
   "outputs": [],
   "source": [
    "!touch tests/test_batch.py"
   ]
  },
  {
   "cell_type": "code",
   "execution_count": 9,
   "id": "6550b2ff-cae5-4f21-8357-0333b04af9c5",
   "metadata": {},
   "outputs": [],
   "source": [
    "!touch tests/__init__.py"
   ]
  },
  {
   "cell_type": "code",
   "execution_count": 10,
   "id": "d453492b-0e1b-4f39-8cbe-a4b7ff2ca3ca",
   "metadata": {},
   "outputs": [
    {
     "name": "stdout",
     "output_type": "stream",
     "text": [
      "total 0\n",
      "-rw-r--r--@ 1 kuanysh  staff     0B Nov 11 00:44 __init__.py\n",
      "-rw-r--r--@ 1 kuanysh  staff     0B Nov 11 00:44 test_batch.py\n"
     ]
    }
   ],
   "source": [
    "ls -lh tests/"
   ]
  },
  {
   "cell_type": "markdown",
   "id": "5b700f7e-d43d-43e0-97d0-1d73397a9914",
   "metadata": {},
   "source": [
    "### Q3. Writing first unit test"
   ]
  },
  {
   "cell_type": "code",
   "execution_count": 18,
   "id": "a7162589-e893-471e-8f55-73951a503b00",
   "metadata": {},
   "outputs": [
    {
     "name": "stdout",
     "output_type": "stream",
     "text": [
      "How many rows should be there in the expected dataframe?\n",
      "2\n"
     ]
    }
   ],
   "source": [
    "!python3 unit_test.py"
   ]
  },
  {
   "cell_type": "markdown",
   "id": "2e8dec02-6ee5-4568-a3cf-eb340d802e9e",
   "metadata": {},
   "source": [
    "### Q4. Mocking S3 with Localstack"
   ]
  },
  {
   "cell_type": "code",
   "execution_count": 1,
   "id": "4b2b4f2c-dacc-4505-b9b5-c44ef4a5c35b",
   "metadata": {},
   "outputs": [
    {
     "name": "stdout",
     "output_type": "stream",
     "text": [
      "\u001b[33mWARN\u001b[0m[0000] /Users/kuanysh/Downloads/mlops/mlops-zoomcamp/06-best-practices/docker-compose.yaml: the attribute `version` is obsolete, it will be ignored, please remove it to avoid potential confusion \n",
      "\u001b[1A\u001b[1B\u001b[0G\u001b[?25l[+] Running 0/0\n",
      " \u001b[33m⠋\u001b[0m Container localstack  Starting                                          \u001b[34m0.1s \u001b[0m\n",
      "\u001b[?25h\u001b[1A\u001b[1A\u001b[0G\u001b[?25l\u001b[34m[+] Running 1/1\u001b[0m\n",
      " \u001b[32m✔\u001b[0m Container localstack  \u001b[32mStarted\u001b[0m                                           \u001b[34m0.1s \u001b[0m\n",
      "\u001b[?25h"
     ]
    }
   ],
   "source": [
    "!docker-compose up -d"
   ]
  },
  {
   "cell_type": "code",
   "execution_count": 38,
   "id": "7dce2718-6a75-4586-9903-31a0a5fe765c",
   "metadata": {},
   "outputs": [],
   "source": [
    "!aws configure set aws_access_key_id test --profile localstack\n",
    "!aws configure set aws_secret_access_key test --profile localstack\n",
    "!aws configure set region us-east-1 --profile localstack"
   ]
  },
  {
   "cell_type": "code",
   "execution_count": 34,
   "id": "87d219de-5eaa-4fe4-ad70-8eb16d9acd60",
   "metadata": {},
   "outputs": [
    {
     "name": "stdout",
     "output_type": "stream",
     "text": [
      "make_bucket: nyc-duration\n"
     ]
    }
   ],
   "source": [
    "!aws s3 mb s3://nyc-duration --endpoint-url=http://localhost:4566 --profile localstack"
   ]
  },
  {
   "cell_type": "code",
   "execution_count": 35,
   "id": "15ffb812-c51b-4697-977a-b63112ddce7e",
   "metadata": {},
   "outputs": [
    {
     "name": "stdout",
     "output_type": "stream",
     "text": [
      "2024-11-11 01:19:11 nyc-duration\n"
     ]
    }
   ],
   "source": [
    "!aws s3 ls --endpoint-url=http://localhost:4566 --profile localstack"
   ]
  },
  {
   "cell_type": "code",
   "execution_count": 31,
   "id": "117f225e-6496-4b3d-a83d-bcc786503f8f",
   "metadata": {},
   "outputs": [
    {
     "name": "stdout",
     "output_type": "stream",
     "text": [
      "#!/usr/bin/env python\n",
      "# coding: utf-8\n",
      "\n",
      "import sys\n",
      "import pickle\n",
      "import pandas as pd\n",
      "import os\n",
      "from datetime import datetime\n",
      "\n",
      "INPUT_FILE_PATTERN  = \"s3://nyc-duration/in/{year:04d}-{month:02d}.parquet\"\n",
      "OUTPUT_FILE_PATTERN = \"s3://nyc-duration/out/{year:04d}-{month:02d}.parquet\"\n",
      "S3_ENDPOINT_URL = os.getenv('S3_ENDPOINT_URL')\n",
      "\n",
      "def read_data(filename):\n",
      "    if S3_ENDPOINT_URL:\n",
      "        storage_options = {\n",
      "            'client_kwargs': {\n",
      "                'endpoint_url': S3_ENDPOINT_URL\n",
      "            }\n",
      "        }\n",
      "        df = pd.read_parquet(filename, storage_options=storage_options)\n",
      "    else:\n",
      "        df = pd.read_parquet(filename)\n",
      "    return df\n",
      "\n",
      "def prepare_data(df):\n",
      "    df = df.copy()\n",
      "    df['duration'] = (df['tpep_dropoff_datetime'] - df['tpep_pickup_datetime']).dt.total_seconds() / 60\n",
      "    df = df[(df['duration'] >= 1) & (df['duration'] <= 60)].copy()\n",
      "    df['PULocationID'] = df['PULocationID'].fillna(-1).astype(int)\n",
      "    df['DOLocationID'] = df['DOLocationID'].fillna(-1).astype(int)\n",
      "    df['PU_DO'] = df['PULocationID'].astype(str) + '_' + df['DOLocationID'].astype(str)\n",
      "    return df\n",
      "\n",
      "def get_input_path(year, month):\n",
      "    default_input_pattern = 'https://d37ci6vzurychx.cloudfront.net/trip-data/yellow_tripdata_{year:04d}-{month:02d}.parquet'\n",
      "    input_pattern = INPUT_FILE_PATTERN or default_input_pattern\n",
      "    return input_pattern.format(year=year, month=month)\n",
      "\n",
      "def get_output_path(year, month):\n",
      "    default_output_pattern = 'output/yellow_tripdata_{year:04d}-{month:02d}.parquet'\n",
      "    output_pattern = OUTPUT_FILE_PATTERN or default_output_pattern\n",
      "    return output_pattern.format(year=year, month=month)\n",
      "\n",
      "def main(year, month):\n",
      "    input_file = get_input_path(year, month)\n",
      "    output_file = get_output_path(year, month)\n",
      "\n",
      "    with open('model.bin', 'rb') as f_in:\n",
      "        dv, lr = pickle.load(f_in)\n",
      "\n",
      "    df = read_data(input_file)\n",
      "    df = prepare_data(df)\n",
      "\n",
      "    df['ride_id'] = f'{year:04d}/{month:02d}_' + df.index.astype('str')\n",
      "    dicts = df[['PULocationID', 'DOLocationID']].to_dict(orient='records')\n",
      "    X_val = dv.transform(dicts)\n",
      "    y_pred = lr.predict(X_val)\n",
      "\n",
      "    print('Predicted mean duration:', y_pred.mean())\n",
      "\n",
      "    df_result = pd.DataFrame()\n",
      "    df_result['ride_id'] = df['ride_id']\n",
      "    df_result['predicted_duration'] = y_pred\n",
      "\n",
      "    df_result.to_parquet(output_file, engine='pyarrow', index=False)\n",
      "\n",
      "if __name__ == \"__main__\":\n",
      "    year = int(sys.argv[1])\n",
      "    month = int(sys.argv[2])\n",
      "    main(year, month)\n"
     ]
    }
   ],
   "source": [
    "!cat batch_updated.py"
   ]
  },
  {
   "cell_type": "markdown",
   "id": "99085ebd-e474-4e90-a849-30955c3eaecd",
   "metadata": {},
   "source": [
    "### Q5. Creating test data"
   ]
  },
  {
   "cell_type": "code",
   "execution_count": 43,
   "id": "b02d4267-16af-4aec-a9df-9737863409f1",
   "metadata": {},
   "outputs": [
    {
     "name": "stdout",
     "output_type": "stream",
     "text": [
      "/opt/homebrew/lib/python3.12/site-packages/sklearn/base.py:376: InconsistentVersionWarning: Trying to unpickle estimator DictVectorizer from version 1.5.0 when using version 1.5.2. This might lead to breaking code or invalid results. Use at your own risk. For more info please refer to:\n",
      "https://scikit-learn.org/stable/model_persistence.html#security-maintainability-limitations\n",
      "  warnings.warn(\n",
      "/opt/homebrew/lib/python3.12/site-packages/sklearn/base.py:376: InconsistentVersionWarning: Trying to unpickle estimator LinearRegression from version 1.5.0 when using version 1.5.2. This might lead to breaking code or invalid results. Use at your own risk. For more info please refer to:\n",
      "https://scikit-learn.org/stable/model_persistence.html#security-maintainability-limitations\n",
      "  warnings.warn(\n",
      "Predicted mean duration: 23.197149245775073\n"
     ]
    }
   ],
   "source": [
    "!python3 batch_updated.py 2023 01"
   ]
  },
  {
   "cell_type": "code",
   "execution_count": 44,
   "id": "d268611a-e496-43c2-a561-5d1c4fc639e2",
   "metadata": {},
   "outputs": [
    {
     "name": "stdout",
     "output_type": "stream",
     "text": [
      "2024-11-11 02:55:10   47673370 2023-01.parquet\n"
     ]
    }
   ],
   "source": [
    "!aws s3 ls s3://nyc-duration/in/ --endpoint-url=http://localhost:4566 --profile localstack"
   ]
  },
  {
   "cell_type": "code",
   "execution_count": 45,
   "id": "3b3b41f1-8ffa-4374-a765-20115b681fa1",
   "metadata": {},
   "outputs": [
    {
     "name": "stdout",
     "output_type": "stream",
     "text": [
      "2024-11-11 03:27:05   15248288 2023-01.parquet\n"
     ]
    }
   ],
   "source": [
    "!aws s3 ls s3://nyc-duration/out/ --endpoint-url=http://localhost:4566 --profile localstack"
   ]
  },
  {
   "cell_type": "code",
   "execution_count": 49,
   "id": "2d68f5ac-75b5-4db7-97f8-717e81df692e",
   "metadata": {},
   "outputs": [],
   "source": [
    "!python3 tests/integration_test.py"
   ]
  },
  {
   "cell_type": "code",
   "execution_count": 50,
   "id": "1e283a96-f13c-4dcf-891d-180d9aa27174",
   "metadata": {},
   "outputs": [
    {
     "name": "stdout",
     "output_type": "stream",
     "text": [
      "2024-11-11 03:34:16       4222 2023-01.parquet\n"
     ]
    }
   ],
   "source": [
    "!aws s3 ls s3://nyc-duration/out/ --endpoint-url=http://localhost:4566 --profile localstack"
   ]
  },
  {
   "cell_type": "markdown",
   "id": "619e9f6d-95a3-4ebe-9a7a-a9760323c1d3",
   "metadata": {},
   "source": [
    "### Q6. Finish the integration test"
   ]
  },
  {
   "cell_type": "code",
   "execution_count": 51,
   "id": "bba350aa-be80-4033-bfe4-88720b88161c",
   "metadata": {},
   "outputs": [
    {
     "name": "stdout",
     "output_type": "stream",
     "text": [
      "/opt/homebrew/lib/python3.12/site-packages/sklearn/base.py:376: InconsistentVersionWarning: Trying to unpickle estimator DictVectorizer from version 1.5.0 when using version 1.5.2. This might lead to breaking code or invalid results. Use at your own risk. For more info please refer to:\n",
      "https://scikit-learn.org/stable/model_persistence.html#security-maintainability-limitations\n",
      "  warnings.warn(\n",
      "/opt/homebrew/lib/python3.12/site-packages/sklearn/base.py:376: InconsistentVersionWarning: Trying to unpickle estimator LinearRegression from version 1.5.0 when using version 1.5.2. This might lead to breaking code or invalid results. Use at your own risk. For more info please refer to:\n",
      "https://scikit-learn.org/stable/model_persistence.html#security-maintainability-limitations\n",
      "  warnings.warn(\n",
      "Predicted mean duration: 18.138625226015364\n"
     ]
    }
   ],
   "source": [
    "!python3 save_data.py 2023 01"
   ]
  },
  {
   "cell_type": "code",
   "execution_count": 52,
   "id": "0423a148-d797-4bfb-a4fb-11eb066960c2",
   "metadata": {},
   "outputs": [
    {
     "name": "stdout",
     "output_type": "stream",
     "text": [
      "2024-11-11 03:49:28       1798 2023-01-save_data.parquet\n",
      "2024-11-11 03:40:23       4222 2023-01.parquet\n"
     ]
    }
   ],
   "source": [
    "!aws s3 ls s3://nyc-duration/out/ --endpoint-url=http://localhost:4566 --profile localstack"
   ]
  }
 ],
 "metadata": {
  "kernelspec": {
   "display_name": "Python 3 (ipykernel)",
   "language": "python",
   "name": "python3"
  },
  "language_info": {
   "codemirror_mode": {
    "name": "ipython",
    "version": 3
   },
   "file_extension": ".py",
   "mimetype": "text/x-python",
   "name": "python",
   "nbconvert_exporter": "python",
   "pygments_lexer": "ipython3",
   "version": "3.12.7"
  }
 },
 "nbformat": 4,
 "nbformat_minor": 5
}
