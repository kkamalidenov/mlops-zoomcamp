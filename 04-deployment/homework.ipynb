{
 "cells": [
  {
   "cell_type": "code",
   "execution_count": 10,
   "id": "2c51efaa",
   "metadata": {},
   "outputs": [
    {
     "name": "stdout",
     "output_type": "stream",
     "text": [
      "scikit-learn==1.5.2\n"
     ]
    }
   ],
   "source": [
    "!pip3 freeze | grep scikit-learn"
   ]
  },
  {
   "cell_type": "code",
   "execution_count": 11,
   "id": "4acf73a0-51b5-4663-9bb8-8eb947863e17",
   "metadata": {},
   "outputs": [
    {
     "name": "stdout",
     "output_type": "stream",
     "text": [
      "Python 3.12.7\n"
     ]
    }
   ],
   "source": [
    "!python3 -V"
   ]
  },
  {
   "cell_type": "code",
   "execution_count": 12,
   "id": "0ef880a0",
   "metadata": {},
   "outputs": [],
   "source": [
    "import pickle\n",
    "import pandas as pd\n",
    "import sklearn"
   ]
  },
  {
   "cell_type": "code",
   "execution_count": 13,
   "id": "7836ccfd",
   "metadata": {},
   "outputs": [
    {
     "name": "stderr",
     "output_type": "stream",
     "text": [
      "/opt/homebrew/lib/python3.12/site-packages/sklearn/base.py:376: InconsistentVersionWarning: Trying to unpickle estimator DictVectorizer from version 1.5.0 when using version 1.5.2. This might lead to breaking code or invalid results. Use at your own risk. For more info please refer to:\n",
      "https://scikit-learn.org/stable/model_persistence.html#security-maintainability-limitations\n",
      "  warnings.warn(\n",
      "/opt/homebrew/lib/python3.12/site-packages/sklearn/base.py:376: InconsistentVersionWarning: Trying to unpickle estimator LinearRegression from version 1.5.0 when using version 1.5.2. This might lead to breaking code or invalid results. Use at your own risk. For more info please refer to:\n",
      "https://scikit-learn.org/stable/model_persistence.html#security-maintainability-limitations\n",
      "  warnings.warn(\n"
     ]
    }
   ],
   "source": [
    "with open('model.bin', 'rb') as f_in:\n",
    "    dv, model = pickle.load(f_in)"
   ]
  },
  {
   "cell_type": "code",
   "execution_count": 14,
   "id": "41c08294",
   "metadata": {},
   "outputs": [],
   "source": [
    "categorical = ['PULocationID', 'DOLocationID']\n",
    "\n",
    "def read_data(filename):\n",
    "    df = pd.read_parquet(filename)\n",
    "    \n",
    "    df['duration'] = df.tpep_dropoff_datetime - df.tpep_pickup_datetime\n",
    "    df['duration'] = df.duration.dt.total_seconds() / 60\n",
    "\n",
    "    df = df[(df.duration >= 1) & (df.duration <= 60)].copy()\n",
    "\n",
    "    df[categorical] = df[categorical].fillna(-1).astype('int').astype('str')\n",
    "    \n",
    "    return df"
   ]
  },
  {
   "cell_type": "code",
   "execution_count": 15,
   "id": "4854399a",
   "metadata": {},
   "outputs": [],
   "source": [
    "df = read_data('https://d37ci6vzurychx.cloudfront.net/trip-data/yellow_tripdata_2023-03.parquet')"
   ]
  },
  {
   "cell_type": "code",
   "execution_count": 16,
   "id": "ef55ead7-1635-46e1-8851-14b507cc93e4",
   "metadata": {},
   "outputs": [
    {
     "data": {
      "text/html": [
       "<div>\n",
       "<style scoped>\n",
       "    .dataframe tbody tr th:only-of-type {\n",
       "        vertical-align: middle;\n",
       "    }\n",
       "\n",
       "    .dataframe tbody tr th {\n",
       "        vertical-align: top;\n",
       "    }\n",
       "\n",
       "    .dataframe thead th {\n",
       "        text-align: right;\n",
       "    }\n",
       "</style>\n",
       "<table border=\"1\" class=\"dataframe\">\n",
       "  <thead>\n",
       "    <tr style=\"text-align: right;\">\n",
       "      <th></th>\n",
       "      <th>VendorID</th>\n",
       "      <th>tpep_pickup_datetime</th>\n",
       "      <th>tpep_dropoff_datetime</th>\n",
       "      <th>passenger_count</th>\n",
       "      <th>trip_distance</th>\n",
       "      <th>RatecodeID</th>\n",
       "      <th>store_and_fwd_flag</th>\n",
       "      <th>PULocationID</th>\n",
       "      <th>DOLocationID</th>\n",
       "      <th>payment_type</th>\n",
       "      <th>fare_amount</th>\n",
       "      <th>extra</th>\n",
       "      <th>mta_tax</th>\n",
       "      <th>tip_amount</th>\n",
       "      <th>tolls_amount</th>\n",
       "      <th>improvement_surcharge</th>\n",
       "      <th>total_amount</th>\n",
       "      <th>congestion_surcharge</th>\n",
       "      <th>Airport_fee</th>\n",
       "      <th>duration</th>\n",
       "    </tr>\n",
       "  </thead>\n",
       "  <tbody>\n",
       "    <tr>\n",
       "      <th>0</th>\n",
       "      <td>2</td>\n",
       "      <td>2023-03-01 00:06:43</td>\n",
       "      <td>2023-03-01 00:16:43</td>\n",
       "      <td>1.0</td>\n",
       "      <td>0.00</td>\n",
       "      <td>1.0</td>\n",
       "      <td>N</td>\n",
       "      <td>238</td>\n",
       "      <td>42</td>\n",
       "      <td>2</td>\n",
       "      <td>8.6</td>\n",
       "      <td>1.0</td>\n",
       "      <td>0.5</td>\n",
       "      <td>0.00</td>\n",
       "      <td>0.0</td>\n",
       "      <td>1.0</td>\n",
       "      <td>11.10</td>\n",
       "      <td>0.0</td>\n",
       "      <td>0.00</td>\n",
       "      <td>10.000000</td>\n",
       "    </tr>\n",
       "    <tr>\n",
       "      <th>1</th>\n",
       "      <td>2</td>\n",
       "      <td>2023-03-01 00:08:25</td>\n",
       "      <td>2023-03-01 00:39:30</td>\n",
       "      <td>2.0</td>\n",
       "      <td>12.40</td>\n",
       "      <td>1.0</td>\n",
       "      <td>N</td>\n",
       "      <td>138</td>\n",
       "      <td>231</td>\n",
       "      <td>1</td>\n",
       "      <td>52.7</td>\n",
       "      <td>6.0</td>\n",
       "      <td>0.5</td>\n",
       "      <td>12.54</td>\n",
       "      <td>0.0</td>\n",
       "      <td>1.0</td>\n",
       "      <td>76.49</td>\n",
       "      <td>2.5</td>\n",
       "      <td>1.25</td>\n",
       "      <td>31.083333</td>\n",
       "    </tr>\n",
       "    <tr>\n",
       "      <th>2</th>\n",
       "      <td>1</td>\n",
       "      <td>2023-03-01 00:15:04</td>\n",
       "      <td>2023-03-01 00:29:26</td>\n",
       "      <td>0.0</td>\n",
       "      <td>3.30</td>\n",
       "      <td>1.0</td>\n",
       "      <td>N</td>\n",
       "      <td>140</td>\n",
       "      <td>186</td>\n",
       "      <td>1</td>\n",
       "      <td>18.4</td>\n",
       "      <td>3.5</td>\n",
       "      <td>0.5</td>\n",
       "      <td>4.65</td>\n",
       "      <td>0.0</td>\n",
       "      <td>1.0</td>\n",
       "      <td>28.05</td>\n",
       "      <td>2.5</td>\n",
       "      <td>0.00</td>\n",
       "      <td>14.366667</td>\n",
       "    </tr>\n",
       "    <tr>\n",
       "      <th>3</th>\n",
       "      <td>1</td>\n",
       "      <td>2023-03-01 00:49:37</td>\n",
       "      <td>2023-03-01 01:01:05</td>\n",
       "      <td>1.0</td>\n",
       "      <td>2.90</td>\n",
       "      <td>1.0</td>\n",
       "      <td>N</td>\n",
       "      <td>140</td>\n",
       "      <td>43</td>\n",
       "      <td>1</td>\n",
       "      <td>15.6</td>\n",
       "      <td>3.5</td>\n",
       "      <td>0.5</td>\n",
       "      <td>4.10</td>\n",
       "      <td>0.0</td>\n",
       "      <td>1.0</td>\n",
       "      <td>24.70</td>\n",
       "      <td>2.5</td>\n",
       "      <td>0.00</td>\n",
       "      <td>11.466667</td>\n",
       "    </tr>\n",
       "    <tr>\n",
       "      <th>4</th>\n",
       "      <td>2</td>\n",
       "      <td>2023-03-01 00:08:04</td>\n",
       "      <td>2023-03-01 00:11:06</td>\n",
       "      <td>1.0</td>\n",
       "      <td>1.23</td>\n",
       "      <td>1.0</td>\n",
       "      <td>N</td>\n",
       "      <td>79</td>\n",
       "      <td>137</td>\n",
       "      <td>1</td>\n",
       "      <td>7.2</td>\n",
       "      <td>1.0</td>\n",
       "      <td>0.5</td>\n",
       "      <td>2.44</td>\n",
       "      <td>0.0</td>\n",
       "      <td>1.0</td>\n",
       "      <td>14.64</td>\n",
       "      <td>2.5</td>\n",
       "      <td>0.00</td>\n",
       "      <td>3.033333</td>\n",
       "    </tr>\n",
       "  </tbody>\n",
       "</table>\n",
       "</div>"
      ],
      "text/plain": [
       "   VendorID tpep_pickup_datetime tpep_dropoff_datetime  passenger_count  \\\n",
       "0         2  2023-03-01 00:06:43   2023-03-01 00:16:43              1.0   \n",
       "1         2  2023-03-01 00:08:25   2023-03-01 00:39:30              2.0   \n",
       "2         1  2023-03-01 00:15:04   2023-03-01 00:29:26              0.0   \n",
       "3         1  2023-03-01 00:49:37   2023-03-01 01:01:05              1.0   \n",
       "4         2  2023-03-01 00:08:04   2023-03-01 00:11:06              1.0   \n",
       "\n",
       "   trip_distance  RatecodeID store_and_fwd_flag PULocationID DOLocationID  \\\n",
       "0           0.00         1.0                  N          238           42   \n",
       "1          12.40         1.0                  N          138          231   \n",
       "2           3.30         1.0                  N          140          186   \n",
       "3           2.90         1.0                  N          140           43   \n",
       "4           1.23         1.0                  N           79          137   \n",
       "\n",
       "   payment_type  fare_amount  extra  mta_tax  tip_amount  tolls_amount  \\\n",
       "0             2          8.6    1.0      0.5        0.00           0.0   \n",
       "1             1         52.7    6.0      0.5       12.54           0.0   \n",
       "2             1         18.4    3.5      0.5        4.65           0.0   \n",
       "3             1         15.6    3.5      0.5        4.10           0.0   \n",
       "4             1          7.2    1.0      0.5        2.44           0.0   \n",
       "\n",
       "   improvement_surcharge  total_amount  congestion_surcharge  Airport_fee  \\\n",
       "0                    1.0         11.10                   0.0         0.00   \n",
       "1                    1.0         76.49                   2.5         1.25   \n",
       "2                    1.0         28.05                   2.5         0.00   \n",
       "3                    1.0         24.70                   2.5         0.00   \n",
       "4                    1.0         14.64                   2.5         0.00   \n",
       "\n",
       "    duration  \n",
       "0  10.000000  \n",
       "1  31.083333  \n",
       "2  14.366667  \n",
       "3  11.466667  \n",
       "4   3.033333  "
      ]
     },
     "execution_count": 16,
     "metadata": {},
     "output_type": "execute_result"
    }
   ],
   "source": [
    "df.head()"
   ]
  },
  {
   "cell_type": "code",
   "execution_count": 17,
   "id": "669fda0a",
   "metadata": {},
   "outputs": [],
   "source": [
    "dicts = df[categorical].to_dict(orient='records')\n",
    "X_val = dv.transform(dicts)\n",
    "y_pred = model.predict(X_val)"
   ]
  },
  {
   "cell_type": "code",
   "execution_count": 18,
   "id": "14c55681-6240-4a5c-9a1a-dfafdb37eec5",
   "metadata": {},
   "outputs": [
    {
     "data": {
      "text/plain": [
       "array([16.24590642, 26.1347962 , 11.88426424, ..., 11.59533603,\n",
       "       13.11317847, 12.89999218])"
      ]
     },
     "execution_count": 18,
     "metadata": {},
     "output_type": "execute_result"
    }
   ],
   "source": [
    "y_pred"
   ]
  },
  {
   "cell_type": "markdown",
   "id": "e68e5e23-5f6b-4290-bd57-ee96fe19648d",
   "metadata": {},
   "source": [
    "### Q1. Standard deviation"
   ]
  },
  {
   "cell_type": "code",
   "execution_count": 53,
   "id": "3fe521a3-b772-4f09-aa79-9205b076c82d",
   "metadata": {},
   "outputs": [
    {
     "data": {
      "text/plain": [
       "np.float64(6.247488852238703)"
      ]
     },
     "execution_count": 53,
     "metadata": {},
     "output_type": "execute_result"
    }
   ],
   "source": [
    "y_pred.std()"
   ]
  },
  {
   "cell_type": "code",
   "execution_count": 48,
   "id": "e97e906d-03d8-4f90-a1bc-811a442d2242",
   "metadata": {},
   "outputs": [],
   "source": [
    "year = 2023\n",
    "month = 3\n",
    "\n",
    "input_file = f'https://d37ci6vzurychx.cloudfront.net/trip-data/yellow_tripdata_{year:04d}-{month:02d}.parquet'\n",
    "output_file = f'output/yellow_tripdata_{year:04d}-{month:02d}.parquet'"
   ]
  },
  {
   "cell_type": "code",
   "execution_count": 49,
   "id": "292c2337-1dfa-4a4c-b2a1-2dc52c0d9a9a",
   "metadata": {},
   "outputs": [],
   "source": [
    "df = read_data(input_file)\n",
    "df['ride_id'] = f'{year:04d}/{month:02d}_' + df.index.astype('str')"
   ]
  },
  {
   "cell_type": "code",
   "execution_count": 50,
   "id": "0c6d913b-6361-4f51-995b-169db7ea8059",
   "metadata": {},
   "outputs": [],
   "source": [
    "df_result = pd.DataFrame()\n",
    "df_result['ride_id'] = df['ride_id']\n",
    "df_result['predicted_duration'] = y_pred"
   ]
  },
  {
   "cell_type": "code",
   "execution_count": 51,
   "id": "b3caec36-7773-4ddc-a64f-5f8c5546e679",
   "metadata": {},
   "outputs": [
    {
     "name": "stdout",
     "output_type": "stream",
     "text": [
      "mkdir: output: File exists\n"
     ]
    }
   ],
   "source": [
    "!mkdir output"
   ]
  },
  {
   "cell_type": "code",
   "execution_count": 52,
   "id": "e08b7bea-3852-4ba8-927e-c86450c3d98f",
   "metadata": {},
   "outputs": [],
   "source": [
    "df_result.to_parquet(\n",
    "    output_file,\n",
    "    engine='pyarrow',\n",
    "    compression=None,\n",
    "    index=False\n",
    ")"
   ]
  },
  {
   "cell_type": "markdown",
   "id": "4d9bd2f2-2fed-49d8-ab93-605da10c28cd",
   "metadata": {},
   "source": [
    "### Q2. Preparing the output"
   ]
  },
  {
   "cell_type": "code",
   "execution_count": 33,
   "id": "26a44448-6fa0-4494-aee2-fd753f621e80",
   "metadata": {},
   "outputs": [
    {
     "name": "stdout",
     "output_type": "stream",
     "text": [
      "total 134072\n",
      "-rw-r--r--@ 1 kuanysh  staff    65M Nov 10 20:48 yellow_tripdata_2023-03.parquet\n"
     ]
    }
   ],
   "source": [
    "!ls -lh output"
   ]
  },
  {
   "cell_type": "markdown",
   "id": "b905762b-3dab-4701-95b3-455a37289e8a",
   "metadata": {},
   "source": [
    "### Q3. Creating the scoring script"
   ]
  },
  {
   "cell_type": "markdown",
   "id": "7242fdf9-cf4e-4952-b02b-8905986e3f78",
   "metadata": {},
   "source": [
    "File > Save and Export Notebook As > Executable Script > homework.py"
   ]
  },
  {
   "cell_type": "markdown",
   "id": "7e971acc-b195-4339-884f-0f127ba3b909",
   "metadata": {},
   "source": [
    "### Q4. Virtual environment"
   ]
  },
  {
   "cell_type": "code",
   "execution_count": 69,
   "id": "f9a82f0e-1d89-41d7-90cd-a2ec7080e60a",
   "metadata": {},
   "outputs": [
    {
     "name": "stdout",
     "output_type": "stream",
     "text": [
      "\u001b[1mPipfile.lock not found, creating\u001b[0m\u001b[1;33m...\u001b[0m\n",
      "Locking\u001b[0m \u001b[33m[packages]\u001b[0m dependencies...\u001b[0m\n",
      "\u001b[?25lBuilding requirements...\n",
      "\u001b[2KResolving dependencies....\n",
      "\u001b[2K✔ Success! Locking packages...\n",
      "\u001b[2K\u001b[32m⠼\u001b[0m Locking packages...\n",
      "\u001b[1A\u001b[2KLocking\u001b[0m \u001b[33m[dev-packages]\u001b[0m dependencies...\u001b[0m\n",
      "\u001b[1mUpdated Pipfile.lock (df088162e8e3f15868da0a51896556fe3ae0a14cede2d99c6fa0e988ce9462da)!\u001b[0m\n",
      "To activate this project's virtualenv, run \u001b[33mpipenv shell\u001b[0m.\n",
      "Alternatively, run a command inside the virtualenv with \u001b[33mpipenv run\u001b[0m.\n",
      "\u001b[1;32mInstalling scikit-learn==1.5.0...\u001b[0m\n",
      "✔ Installation Succeeded\n",
      "To activate this project's virtualenv, run \u001b[33mpipenv shell\u001b[0m.\n",
      "Alternatively, run a command inside the virtualenv with \u001b[33mpipenv run\u001b[0m.\n",
      "\u001b[1mInstalling dependencies from Pipfile.lock \u001b[0m\u001b[1;39m(9462da)...\u001b[0m\n",
      "\u001b[32mAll dependencies are now up-to-date!\u001b[0m\n",
      "\u001b[1;32mUpgrading\u001b[0m scikit-\u001b[33mlearn\u001b[0m==\u001b[1;36m1.5\u001b[0m.\u001b[1;36m0\u001b[0m in \u001b[39m dependencies.\u001b[0m\n",
      "\u001b[?25lBuilding requirements...\n",
      "\u001b[2KResolving dependencies....\n",
      "\u001b[2K✔ Success! Locking packages...\n",
      "\u001b[2K\u001b[32m⠙\u001b[0m Locking packages...\n",
      "\u001b[1A\u001b[2K\u001b[?25lBuilding requirements...\n",
      "\u001b[2KResolving dependencies....\n",
      "\u001b[2K✔ Success! Locking packages...\n",
      "\u001b[2K\u001b[32m⠏\u001b[0m Locking packages...\n",
      "\u001b[1A\u001b[2KTo activate this project's virtualenv, run \u001b[33mpipenv shell\u001b[0m.\n",
      "Alternatively, run a command inside the virtualenv with \u001b[33mpipenv run\u001b[0m.\n",
      "\u001b[1mInstalling dependencies from Pipfile.lock \u001b[0m\u001b[1;39m(9462da)...\u001b[0m\n",
      "\u001b[32mAll dependencies are now up-to-date!\u001b[0m\n",
      "\u001b[1mInstalling dependencies from Pipfile.lock \u001b[0m\u001b[1;39m(9462da)...\u001b[0m\n"
     ]
    }
   ],
   "source": [
    "!pipenv install scikit-learn==1.5.0"
   ]
  },
  {
   "cell_type": "code",
   "execution_count": 70,
   "id": "e04d9ae4-3544-421d-94cc-582eedb676b6",
   "metadata": {},
   "outputs": [
    {
     "name": "stdout",
     "output_type": "stream",
     "text": [
      "\u001b[1;39m{\n",
      "  \u001b[0m\u001b[1;34m\"hashes\"\u001b[0m\u001b[1;39m: \u001b[0m\u001b[1;39m[\n",
      "    \u001b[0;32m\"sha256:057b991ac64b3e75c9c04b5f9395eaf19a6179244c089afdebaad98264bff37c\"\u001b[0m\u001b[1;39m,\n",
      "    \u001b[0;32m\"sha256:118a8d229a41158c9f90093e46b3737120a165181a1b58c03461447aa4657415\"\u001b[0m\u001b[1;39m,\n",
      "    \u001b[0;32m\"sha256:12e40ac48555e6b551f0a0a5743cc94cc5a765c9513fe708e01f0aa001da2801\"\u001b[0m\u001b[1;39m,\n",
      "    \u001b[0;32m\"sha256:174beb56e3e881c90424e21f576fa69c4ffcf5174632a79ab4461c4c960315ac\"\u001b[0m\u001b[1;39m,\n",
      "    \u001b[0;32m\"sha256:1b94d6440603752b27842eda97f6395f570941857456c606eb1d638efdb38184\"\u001b[0m\u001b[1;39m,\n",
      "    \u001b[0;32m\"sha256:1f77547165c00625551e5c250cefa3f03f2fc92c5e18668abd90bfc4be2e0bff\"\u001b[0m\u001b[1;39m,\n",
      "    \u001b[0;32m\"sha256:261fe334ca48f09ed64b8fae13f9b46cc43ac5f580c4a605cbb0a517456c8f71\"\u001b[0m\u001b[1;39m,\n",
      "    \u001b[0;32m\"sha256:2a65af2d8a6cce4e163a7951a4cfbfa7fceb2d5c013a4b593686c7f16445cf9d\"\u001b[0m\u001b[1;39m,\n",
      "    \u001b[0;32m\"sha256:2c75ea812cd83b1385bbfa94ae971f0d80adb338a9523f6bbcb5e0b0381151d4\"\u001b[0m\u001b[1;39m,\n",
      "    \u001b[0;32m\"sha256:40fb7d4a9a2db07e6e0cae4dc7bdbb8fada17043bac24104d8165e10e4cff1a2\"\u001b[0m\u001b[1;39m,\n",
      "    \u001b[0;32m\"sha256:460806030c666addee1f074788b3978329a5bfdc9b7d63e7aad3f6d45c67a210\"\u001b[0m\u001b[1;39m,\n",
      "    \u001b[0;32m\"sha256:47132440050b1c5beb95f8ba0b2402bbd9057ce96ec0ba86f2f445dd4f34df67\"\u001b[0m\u001b[1;39m,\n",
      "    \u001b[0;32m\"sha256:4c0c56c3005f2ec1db3787aeaabefa96256580678cec783986836fc64f8ff622\"\u001b[0m\u001b[1;39m,\n",
      "    \u001b[0;32m\"sha256:789e3db01c750ed6d496fa2db7d50637857b451e57bcae863bff707c1247bef7\"\u001b[0m\u001b[1;39m,\n",
      "    \u001b[0;32m\"sha256:855fc5fa8ed9e4f08291203af3d3e5fbdc4737bd617a371559aaa2088166046e\"\u001b[0m\u001b[1;39m,\n",
      "    \u001b[0;32m\"sha256:a03b09f9f7f09ffe8c5efffe2e9de1196c696d811be6798ad5eddf323c6f4d40\"\u001b[0m\u001b[1;39m,\n",
      "    \u001b[0;32m\"sha256:a3a10e1d9e834e84d05e468ec501a356226338778769317ee0b84043c0d8fb06\"\u001b[0m\u001b[1;39m,\n",
      "    \u001b[0;32m\"sha256:a90c5da84829a0b9b4bf00daf62754b2be741e66b5946911f5bdfaa869fcedd6\"\u001b[0m\u001b[1;39m,\n",
      "    \u001b[0;32m\"sha256:d82c2e573f0f2f2f0be897e7a31fcf4e73869247738ab8c3ce7245549af58ab8\"\u001b[0m\u001b[1;39m,\n",
      "    \u001b[0;32m\"sha256:df8ccabbf583315f13160a4bb06037bde99ea7d8211a69787a6b7c5d4ebb6fc3\"\u001b[0m\u001b[1;39m,\n",
      "    \u001b[0;32m\"sha256:f405c4dae288f5f6553b10c4ac9ea7754d5180ec11e296464adb5d6ac68b6ef5\"\u001b[0m\u001b[1;39m\n",
      "  \u001b[1;39m]\u001b[0m\u001b[1;39m,\n",
      "  \u001b[0m\u001b[1;34m\"index\"\u001b[0m\u001b[1;39m: \u001b[0m\u001b[0;32m\"pypi\"\u001b[0m\u001b[1;39m,\n",
      "  \u001b[0m\u001b[1;34m\"markers\"\u001b[0m\u001b[1;39m: \u001b[0m\u001b[0;32m\"python_version >= '3.9'\"\u001b[0m\u001b[1;39m,\n",
      "  \u001b[0m\u001b[1;34m\"version\"\u001b[0m\u001b[1;39m: \u001b[0m\u001b[0;32m\"==1.5.0\"\u001b[0m\u001b[1;39m\n",
      "\u001b[1;39m}\u001b[0m\n"
     ]
    }
   ],
   "source": [
    "!jq '.default[\"scikit-learn\"]' Pipfile.lock"
   ]
  },
  {
   "cell_type": "markdown",
   "id": "32f2aaec-ab7e-40a0-9264-43d14aa733e0",
   "metadata": {},
   "source": [
    "### Q5. Parametrize the script"
   ]
  },
  {
   "cell_type": "code",
   "execution_count": 60,
   "id": "db5db78d-fa5e-45d5-9db0-b9a211a78def",
   "metadata": {},
   "outputs": [
    {
     "name": "stdout",
     "output_type": "stream",
     "text": [
      "/opt/homebrew/lib/python3.12/site-packages/sklearn/base.py:376: InconsistentVersionWarning: Trying to unpickle estimator DictVectorizer from version 1.5.0 when using version 1.5.2. This might lead to breaking code or invalid results. Use at your own risk. For more info please refer to:\n",
      "https://scikit-learn.org/stable/model_persistence.html#security-maintainability-limitations\n",
      "  warnings.warn(\n",
      "/opt/homebrew/lib/python3.12/site-packages/sklearn/base.py:376: InconsistentVersionWarning: Trying to unpickle estimator LinearRegression from version 1.5.0 when using version 1.5.2. This might lead to breaking code or invalid results. Use at your own risk. For more info please refer to:\n",
      "https://scikit-learn.org/stable/model_persistence.html#security-maintainability-limitations\n",
      "  warnings.warn(\n",
      "\n",
      "Mean predicted duration: 14.292282936862449\n"
     ]
    }
   ],
   "source": [
    "!python3 homework.py 2023 04"
   ]
  },
  {
   "cell_type": "markdown",
   "id": "1a8e7d6f-7f51-4544-8a47-ba3be57283e4",
   "metadata": {},
   "source": [
    "### Q6. Docker container"
   ]
  },
  {
   "cell_type": "code",
   "execution_count": 73,
   "id": "e43c9cb8-29a4-47b8-afd9-beae3489a71d",
   "metadata": {},
   "outputs": [
    {
     "name": "stdout",
     "output_type": "stream",
     "text": [
      "\u001b[1A\u001b[1B\u001b[0G\u001b[?25l[+] Building 0.0s (0/1)                                    docker:desktop-linux\n",
      "\u001b[?25h\u001b[1A\u001b[0G\u001b[?25l[+] Building 0.2s (1/2)                                    docker:desktop-linux\n",
      "\u001b[34m => [internal] load build definition from Dockerfile                       0.0s\n",
      "\u001b[0m\u001b[34m => => transferring dockerfile: 321B                                       0.0s\n",
      "\u001b[0m => [internal] load metadata for docker.io/agrigorev/zoomcamp-model:mlops  0.2s\n",
      "\u001b[?25h\u001b[1A\u001b[1A\u001b[1A\u001b[1A\u001b[0G\u001b[?25l[+] Building 0.3s (1/2)                                    docker:desktop-linux\n",
      "\u001b[34m => [internal] load build definition from Dockerfile                       0.0s\n",
      "\u001b[0m\u001b[34m => => transferring dockerfile: 321B                                       0.0s\n",
      "\u001b[0m => [internal] load metadata for docker.io/agrigorev/zoomcamp-model:mlops  0.3s\n",
      "\u001b[?25h\u001b[1A\u001b[1A\u001b[1A\u001b[1A\u001b[0G\u001b[?25l[+] Building 0.5s (1/2)                                    docker:desktop-linux\n",
      "\u001b[34m => [internal] load build definition from Dockerfile                       0.0s\n",
      "\u001b[0m\u001b[34m => => transferring dockerfile: 321B                                       0.0s\n",
      "\u001b[0m => [internal] load metadata for docker.io/agrigorev/zoomcamp-model:mlops  0.5s\n",
      "\u001b[?25h\u001b[1A\u001b[1A\u001b[1A\u001b[1A\u001b[0G\u001b[?25l[+] Building 0.6s (1/2)                                    docker:desktop-linux\n",
      "\u001b[34m => [internal] load build definition from Dockerfile                       0.0s\n",
      "\u001b[0m\u001b[34m => => transferring dockerfile: 321B                                       0.0s\n",
      "\u001b[0m => [internal] load metadata for docker.io/agrigorev/zoomcamp-model:mlops  0.6s\n",
      "\u001b[?25h\u001b[1A\u001b[1A\u001b[1A\u001b[1A\u001b[0G\u001b[?25l[+] Building 0.8s (1/2)                                    docker:desktop-linux\n",
      "\u001b[34m => [internal] load build definition from Dockerfile                       0.0s\n",
      "\u001b[0m\u001b[34m => => transferring dockerfile: 321B                                       0.0s\n",
      "\u001b[0m => [internal] load metadata for docker.io/agrigorev/zoomcamp-model:mlops  0.8s\n",
      "\u001b[?25h\u001b[1A\u001b[1A\u001b[1A\u001b[1A\u001b[0G\u001b[?25l[+] Building 0.8s (2/2)                                    docker:desktop-linux\n",
      "\u001b[34m => [internal] load build definition from Dockerfile                       0.0s\n",
      "\u001b[0m\u001b[34m => => transferring dockerfile: 321B                                       0.0s\n",
      "\u001b[0m\u001b[34m => [internal] load metadata for docker.io/agrigorev/zoomcamp-model:mlops  0.8s\n",
      "\u001b[0m\u001b[?25h\u001b[1A\u001b[1A\u001b[1A\u001b[1A\u001b[0G\u001b[?25l[+] Building 0.9s (9/9) FINISHED                           docker:desktop-linux\n",
      "\u001b[34m => [internal] load build definition from Dockerfile                       0.0s\n",
      "\u001b[0m\u001b[34m => => transferring dockerfile: 321B                                       0.0s\n",
      "\u001b[0m\u001b[34m => [internal] load metadata for docker.io/agrigorev/zoomcamp-model:mlops  0.8s\n",
      "\u001b[0m\u001b[34m => [internal] load .dockerignore                                          0.0s\n",
      "\u001b[0m\u001b[34m => => transferring context: 2B                                            0.0s\n",
      "\u001b[0m\u001b[34m => [1/4] FROM docker.io/agrigorev/zoomcamp-model:mlops-2024-3.10.13-slim  0.0s\n",
      "\u001b[0m\u001b[34m => => resolve docker.io/agrigorev/zoomcamp-model:mlops-2024-3.10.13-slim  0.0s\n",
      "\u001b[0m\u001b[34m => [internal] load build context                                          0.0s\n",
      "\u001b[0m\u001b[34m => => transferring context: 460B                                          0.0s\n",
      "\u001b[0m\u001b[34m => CACHED [2/4] RUN pip install -U pip & pip install pipenv               0.0s\n",
      "\u001b[0m\u001b[34m => CACHED [3/4] COPY [ Pipfile, Pipfile.lock, homework.py, ./ ]           0.0s\n",
      "\u001b[0m\u001b[34m => CACHED [4/4] RUN pipenv install --system --deploy                      0.0s\n",
      "\u001b[0m\u001b[34m => exporting to image                                                     0.0s\n",
      "\u001b[0m\u001b[34m => => exporting layers                                                    0.0s\n",
      "\u001b[0m\u001b[34m => => exporting manifest sha256:1f708078bf2d87401fbece3357a78c3f67345240  0.0s\n",
      "\u001b[0m\u001b[34m => => exporting config sha256:9fc9e250543dddc81cc3750f592802eecc7b161209  0.0s\n",
      "\u001b[0m\u001b[34m => => exporting attestation manifest sha256:f9f9ed14b74b673e4d13e7ae1b2a  0.0s\n",
      "\u001b[0m\u001b[34m => => exporting manifest list sha256:fdda76032bbe0751f7e067755bd10b3f971  0.0s\n",
      "\u001b[0m\u001b[34m => => naming to docker.io/library/04-deployment:latest                    0.0s\n",
      "\u001b[0m\u001b[34m => => unpacking to docker.io/library/04-deployment:latest                 0.0s\n",
      "\u001b[0m\u001b[?25h\n",
      " \u001b[33m1 warning found (use docker --debug to expand):\n",
      "\u001b[0m - InvalidBaseImagePlatform: Base image agrigorev/zoomcamp-model:mlops-2024-3.10.13-slim was pulled with platform \"linux/amd64\", expected \"linux/arm64\" for current build (line 1)\n"
     ]
    }
   ],
   "source": [
    "!docker build -t 04-deployment:latest ."
   ]
  },
  {
   "cell_type": "code",
   "execution_count": 74,
   "id": "bb69288d-b70f-4e31-89e3-31ea44d3798e",
   "metadata": {},
   "outputs": [
    {
     "name": "stdout",
     "output_type": "stream",
     "text": [
      "WARNING: The requested image's platform (linux/amd64) does not match the detected host platform (linux/arm64/v8) and no specific platform was requested\n",
      "\n",
      "Mean predicted duration: 0.19174419265916945\n"
     ]
    }
   ],
   "source": [
    "!docker run 04-deployment:latest"
   ]
  }
 ],
 "metadata": {
  "kernelspec": {
   "display_name": "Python 3 (ipykernel)",
   "language": "python",
   "name": "python3"
  },
  "language_info": {
   "codemirror_mode": {
    "name": "ipython",
    "version": 3
   },
   "file_extension": ".py",
   "mimetype": "text/x-python",
   "name": "python",
   "nbconvert_exporter": "python",
   "pygments_lexer": "ipython3",
   "version": "3.12.7"
  }
 },
 "nbformat": 4,
 "nbformat_minor": 5
}
